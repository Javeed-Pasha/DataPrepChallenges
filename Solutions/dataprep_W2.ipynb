{
 "cells": [
  {
   "cell_type": "markdown",
   "metadata": {},
   "source": [
    "## Week 2 data challenge:\n",
    "###  Aggregation  and calculations"
   ]
  },
  {
   "cell_type": "code",
   "execution_count": null,
   "metadata": {},
   "outputs": [],
   "source": [
    "import pandas as pd\n",
    "import numpy as np\n"
   ]
  },
  {
   "cell_type": "code",
   "execution_count": null,
   "metadata": {},
   "outputs": [],
   "source": [
    "#data exploring \n",
    "df = pd.read_csv(r'C:\\Users\\jpasha\\Desktop\\Data_Prep\\Data_2022_w2.csv')\n",
    "df.describe()\n",
    "df.info()\n",
    "df.head()"
   ]
  },
  {
   "cell_type": "code",
   "execution_count": null,
   "metadata": {},
   "outputs": [],
   "source": [
    "# Extract the Alphabets from the strings as brand Name \n",
    "df['Brand']= df['Model'].str.extract(r'([a-zA-Z]+)')"
   ]
  },
  {
   "cell_type": "code",
   "execution_count": null,
   "metadata": {},
   "outputs": [],
   "source": [
    "# Order Value = 'Value per Bike' * Quantity\n",
    "df['Order Value'] = df['Quantity'] * df['Value per Bike']"
   ]
  },
  {
   "cell_type": "code",
   "execution_count": null,
   "metadata": {},
   "outputs": [],
   "source": [
    "# days to Ship = shiping date - order date. \n",
    "df['Order Date'] = pd.to_datetime(df['Order Date'] )\n",
    "df['Shipping Date'] = pd.to_datetime(df['Shipping Date'] )\n",
    "df['Days to Ship']=(df['Shipping Date']-df['Order Date'])/np.timedelta64(1,'D')\n",
    "df.head()"
   ]
  },
  {
   "cell_type": "code",
   "execution_count": null,
   "metadata": {},
   "outputs": [],
   "source": [
    "#Generate the aggregate grouped by Brand and BikeType \n",
    "x=df.groupby(\n",
    "     ['Brand','Bike Type']\n",
    " ).agg({ # since my pandas verion is <0.25 i couldnt use named aggregations\n",
    "     'Quantity' :[ ('Quantity','sum')],\n",
    "     'Order Value' : [('Order Value','sum')],\n",
    "})\n",
    "x.columns = ['Quantity Sold', 'Order Value'] \n",
    "x['Average Bike value per brand,Type'] =x['Order Value'] / x['Quantity Sold']\n",
    "y.to_csv(\"sales_by_Brand_BikeType.csv\")\n",
    "x#.columns.values"
   ]
  },
  {
   "cell_type": "code",
   "execution_count": null,
   "metadata": {},
   "outputs": [],
   "source": [
    " #Generate the aggregate grouped by Brand and sTORE  and save as csv \n",
    "y=df.groupby(['Brand','Store']).agg({\n",
    "     'Quantity': [('Quantity','sum')],\n",
    "     'Order Value' : [('Order Value','sum')],\n",
    "     'Days to Ship' : [('Days to Ship','mean')],\n",
    "     }) \n",
    " y.columns = ['Total_Quantity_Sold', 'Total_Order_Value','Avg_Days_to_Ship']\n",
    "y\n",
    "y.to_csv(\"sales_byBrand_Store.csv\")"
   ]
  }
 ],
 "metadata": {
  "kernelspec": {
   "display_name": "Python 3",
   "language": "python",
   "name": "python3"
  },
  "language_info": {
   "codemirror_mode": {
    "name": "ipython",
    "version": 3
   },
   "file_extension": ".py",
   "mimetype": "text/x-python",
   "name": "python",
   "nbconvert_exporter": "python",
   "pygments_lexer": "ipython3",
   "version": "3.6.5"
  }
 },
 "nbformat": 4,
 "nbformat_minor": 2
}
